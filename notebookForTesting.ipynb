{
 "cells": [
  {
   "cell_type": "code",
   "execution_count": 16,
   "id": "a0c24534-1765-4349-9fee-aa4ba7139e2d",
   "metadata": {
    "tags": []
   },
   "outputs": [],
   "source": [
    "%reload_ext autoreload\n",
    "%autoreload 2\n",
    "\n",
    "import mysql.connector\n",
    "import databaseManagement as dm\n",
    "import fileManagement as fm"
   ]
  },
  {
   "cell_type": "code",
   "execution_count": 22,
   "id": "1cb0bbbe-7a72-4821-89da-d20c70c57052",
   "metadata": {
    "tags": []
   },
   "outputs": [],
   "source": [
    "# Database is definitely next. \n",
    "\n",
    "\n",
    "# Okay, what are the requirements???\n",
    "# - \n",
    "# 1. A list of mice that are used in the experiment with unique mice IDs\n",
    "#     - unique key\n",
    "#     - name\n",
    "#     - sex\n",
    "#     - genetic background\n",
    "#     - genotype (can be empty)\n",
    "#     - ear tag\n",
    "#     - date of birth\n",
    "\n",
    "# 2. A list of experiment types\n",
    "#     - unique key\n",
    "#     - name\n",
    "#     - description\n",
    "\n",
    "# 3. A list of sessions\n",
    "#     - unique key\n",
    "#     - mouse key used in session\n",
    "#     - experiment key used for session\n",
    "#     - date\n",
    "#     - user\n",
    "#     - ...\n",
    "\n",
    "\n",
    "# - \n",
    "# how does it work? \n",
    "# - \n",
    "\n",
    "# "
   ]
  },
  {
   "cell_type": "code",
   "execution_count": 7,
   "id": "23e8f7ba-ed65-4880-a3b8-ce101706d558",
   "metadata": {
    "tags": []
   },
   "outputs": [
    {
     "data": {
      "text/plain": [
       "['unique identifier',\n",
       " 'mouseName',\n",
       " 'date',\n",
       " 'session ID',\n",
       " 'unique mouse ID',\n",
       " 'experiment type',\n",
       " 'imaging',\n",
       " 'face camera',\n",
       " 'vrEnvironments',\n",
       " 'number of imaging planes',\n",
       " 'separation of imaging planes',\n",
       " 'pockels cell percentage',\n",
       " 'rotation of objective',\n",
       " 'rotation of head plate holder',\n",
       " 'suite2p processed',\n",
       " 'suite2p quality control',\n",
       " 'vrExperiment registration processed',\n",
       " 'red cell quality control',\n",
       " 'session quality control']"
      ]
     },
     "execution_count": 7,
     "metadata": {},
     "output_type": "execute_result"
    }
   ],
   "source": [
    "dbpath = fm.codePath()\n",
    "headerColumns = []\n",
    "with open(dbpath/'sessionHeaders.txt') as f:\n",
    "    for x in f: \n",
    "        headerColumns.append(x.strip())\n",
    "\n",
    "headerColumns"
   ]
  },
  {
   "cell_type": "code",
   "execution_count": 39,
   "id": "01c71641-a21f-406c-9148-e72009789769",
   "metadata": {},
   "outputs": [
    {
     "name": "stdin",
     "output_type": "stream",
     "text": [
      " ········\n"
     ]
    }
   ],
   "source": [
    "mydb = dm.connect()"
   ]
  },
  {
   "cell_type": "code",
   "execution_count": null,
   "id": "09f191d2-9e0e-4509-acb1-290bb9fdf596",
   "metadata": {},
   "outputs": [],
   "source": [
    "my"
   ]
  },
  {
   "cell_type": "code",
   "execution_count": 41,
   "id": "b0baf6f3-0ecc-4df9-b93d-d0a7c2b76f18",
   "metadata": {
    "tags": []
   },
   "outputs": [
    {
     "name": "stdout",
     "output_type": "stream",
     "text": [
      "('information_schema',)\n",
      "('menagerie',)\n",
      "('mysql',)\n",
      "('performance_schema',)\n",
      "('sakila',)\n",
      "('sys',)\n",
      "('testbase',)\n",
      "('vrdatabasetest',)\n",
      "('world',)\n"
     ]
    }
   ],
   "source": [
    "mycursor = mydb.cursor()\n",
    "mycursor.execute(\"show databases;\")\n",
    "# mycursor.execute(\"select * from pet;\")\n",
    "for x in mycursor: print(x)\n"
   ]
  },
  {
   "cell_type": "code",
   "execution_count": null,
   "id": "dca97f2b-5c00-449d-8b54-96d16d086417",
   "metadata": {},
   "outputs": [
    {
     "name": "stdin",
     "output_type": "stream",
     "text": [
      " ········\n"
     ]
    }
   ],
   "source": []
  },
  {
   "cell_type": "code",
   "execution_count": null,
   "id": "5d257ea3-3d99-4c42-b7ee-8da55b123314",
   "metadata": {},
   "outputs": [],
   "source": []
  },
  {
   "cell_type": "code",
   "execution_count": null,
   "id": "e8ecf374-f283-42a9-860f-04ee460d23b3",
   "metadata": {},
   "outputs": [],
   "source": []
  },
  {
   "cell_type": "code",
   "execution_count": null,
   "id": "a7be119d-0d8d-4d97-9ee1-b5b8f296f66f",
   "metadata": {},
   "outputs": [],
   "source": []
  },
  {
   "cell_type": "code",
   "execution_count": null,
   "id": "31b008f2-6aa9-43f3-b2ad-64a1af60ad21",
   "metadata": {},
   "outputs": [],
   "source": []
  }
 ],
 "metadata": {
  "kernelspec": {
   "display_name": "Python 3 (ipykernel)",
   "language": "python",
   "name": "python3"
  },
  "language_info": {
   "codemirror_mode": {
    "name": "ipython",
    "version": 3
   },
   "file_extension": ".py",
   "mimetype": "text/x-python",
   "name": "python",
   "nbconvert_exporter": "python",
   "pygments_lexer": "ipython3",
   "version": "3.11.4"
  }
 },
 "nbformat": 4,
 "nbformat_minor": 5
}
