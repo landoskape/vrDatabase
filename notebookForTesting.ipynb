{
 "cells": [
  {
   "cell_type": "code",
   "execution_count": 16,
   "id": "a0c24534-1765-4349-9fee-aa4ba7139e2d",
   "metadata": {
    "tags": []
   },
   "outputs": [],
   "source": [
    "%reload_ext autoreload\n",
    "%autoreload 2\n",
    "\n",
    "import mysql.connector\n",
    "import databaseManagement as dm\n",
    "import fileManagement as fm"
   ]
  },
  {
   "cell_type": "code",
   "execution_count": 22,
   "id": "1cb0bbbe-7a72-4821-89da-d20c70c57052",
   "metadata": {
    "tags": []
   },
   "outputs": [],
   "source": [
    "# Database is definitely next. \n",
    "\n",
    "# Okay, what are the requirements???\n",
    "# - \n",
    "# 1. A list of mice that are used in the experiment with unique mice IDs\n",
    "#     - unique key\n",
    "#     - name\n",
    "#     - sex\n",
    "#     - genetic background\n",
    "#     - genotype (can be empty)\n",
    "#     - ear tag\n",
    "#     - date of birth\n",
    "\n",
    "# 2. A list of experiment types\n",
    "#     - unique key\n",
    "#     - name\n",
    "#     - description\n",
    "\n",
    "# 3. A list of sessions\n",
    "#     - unique key\n",
    "#     - mouse key used in session\n",
    "#     - experiment key used for session\n",
    "#     - date\n",
    "#     - user\n",
    "#     - ..."
   ]
  },
  {
   "cell_type": "code",
   "execution_count": 78,
   "id": "e06480f8-b246-48a3-828c-abd12261fd45",
   "metadata": {
    "tags": []
   },
   "outputs": [],
   "source": [
    "# https://realpython.com/python-mysql/#creating-tables-using-the-create-table-statement\n",
    "# https://www.w3schools.com/sql/sql_datatypes.asp"
   ]
  },
  {
   "cell_type": "code",
   "execution_count": null,
   "id": "ebd818de-5ba7-4112-8d95-1138bff472ef",
   "metadata": {},
   "outputs": [],
   "source": [
    "# User requirements:\n",
    "# 1. I want to use the addEntryGUI to add entries to any table, given the table name as input. Therefore, I need to write some supporting functions:\n",
    "#    - Write script with functions that take in a table name and output the columnNames and datatypes of that table. \n",
    "#    - Write txt files that contain the information on columnNames and datatypes for each table.\n",
    "#    - Add in mysql.connector functionality so that I can actually add the entry to my database.\n",
    "\n",
    "# Coding requirements:\n",
    "# 1. Write script with functions that retrieve columnNames for my tables\n"
   ]
  },
  {
   "cell_type": "code",
   "execution_count": null,
   "id": "5d257ea3-3d99-4c42-b7ee-8da55b123314",
   "metadata": {},
   "outputs": [],
   "source": []
  },
  {
   "cell_type": "code",
   "execution_count": null,
   "id": "dc7702dc-2650-4b34-a96a-13aa6394b6d7",
   "metadata": {},
   "outputs": [],
   "source": []
  },
  {
   "cell_type": "code",
   "execution_count": 105,
   "id": "31b008f2-6aa9-43f3-b2ad-64a1af60ad21",
   "metadata": {},
   "outputs": [
    {
     "name": "stdin",
     "output_type": "stream",
     "text": [
      " ········\n"
     ]
    },
    {
     "name": "stdout",
     "output_type": "stream",
     "text": [
      "('information_schema',)\n",
      "('menagerie',)\n",
      "('mysql',)\n",
      "('performance_schema',)\n",
      "('sakila',)\n",
      "('sys',)\n",
      "('testbase',)\n",
      "('vrdatabasetest',)\n",
      "('world',)\n"
     ]
    }
   ],
   "source": [
    "from sqlalchemy import create_engine\n",
    "from sqlalchemy.orm import sessionmaker\n",
    "from sqlalchemy import URL\n",
    "from sqlalchemy import text\n",
    "\n",
    "\n",
    "database = 'vrdatabasetest'\n",
    "host='localhost'\n",
    "username='root'\n",
    "password=None\n",
    "port=3306\n",
    "if password is None: password = getpass.getpass()\n",
    "urlObject = URL.create(\"mysql+mysqlconnector\", username=username, password=password, host=host, database=database)\n",
    "engine = create_engine(urlObject)\n",
    "# Session = sessionmaker(bind=engine)\n",
    "# return Session()\n",
    "    \n",
    "with engine.connect() as connection:\n",
    "    result = connection.execute(text(\"show databases\"))\n",
    "    for row in result:\n",
    "        print(row)"
   ]
  },
  {
   "cell_type": "code",
   "execution_count": null,
   "id": "f26effc1-4c36-4849-8eed-ee4847307dcc",
   "metadata": {},
   "outputs": [],
   "source": []
  },
  {
   "cell_type": "code",
   "execution_count": 111,
   "id": "5c9fa1c7-40d5-45d7-8111-7f6f88b077b1",
   "metadata": {
    "tags": []
   },
   "outputs": [
    {
     "name": "stdin",
     "output_type": "stream",
     "text": [
      " ········\n"
     ]
    }
   ],
   "source": [
    "from sqlalchemy import create_engine, Column, Integer, String\n",
    "from sqlalchemy.orm import sessionmaker, declarative_base, Session\n",
    "\n",
    "engine = dm.openSession('vrdatabasetest')\n",
    "Base = declarative_base()\n",
    "\n",
    "class User(Base):\n",
    "    __tablename__ = 'users'\n",
    "    id = Column(Integer, primary_key=True, autoincrement=True)\n",
    "    name = Column(String(50), nullable=False)\n",
    "    email = Column(String(100), nullable=False, unique=True)\n",
    "    age = Column(Integer)\n",
    "\n",
    "class Pet(Base):\n",
    "    __tablename__ = 'pet'\n",
    "    id = Column(Integer, primary_key=True, autoincrement=True)\n",
    "    name = Column(String(50), nullable=False)\n",
    "    species = Column(String(50), nullable=False)\n",
    "    owner = Column(String(50), nullable=True)\n",
    "    \n",
    "Base.metadata.create_all(engine)\n",
    "# Session = sessionmaker(bind=engine)\n",
    "\n",
    "# with Session(engine) as session:\n",
    "#     new_user = User(name='Jane Doeby', email='janeypie@example.com', age=64)\n",
    "#     session.add(new_user)\n",
    "#     session.commit()\n"
   ]
  },
  {
   "cell_type": "code",
   "execution_count": 124,
   "id": "ffee5ff5-a519-46ec-be59-db66e1b384e3",
   "metadata": {
    "tags": []
   },
   "outputs": [],
   "source": [
    "from tables import mice"
   ]
  },
  {
   "cell_type": "code",
   "execution_count": 126,
   "id": "2b14e591-2762-43fc-942a-d99bb7a05e17",
   "metadata": {
    "tags": []
   },
   "outputs": [
    {
     "data": {
      "text/plain": [
       "sqlalchemy.orm.decl_api.DeclarativeMeta"
      ]
     },
     "execution_count": 126,
     "metadata": {},
     "output_type": "execute_result"
    }
   ],
   "source": [
    "type(mice)"
   ]
  },
  {
   "cell_type": "code",
   "execution_count": 113,
   "id": "876b595b-36e2-4366-8b46-4c75067c9520",
   "metadata": {
    "tags": []
   },
   "outputs": [],
   "source": [
    "base = tables.returnBase()"
   ]
  },
  {
   "cell_type": "code",
   "execution_count": null,
   "id": "12039ab8-fbcb-4018-8d7a-99027dc0d94a",
   "metadata": {},
   "outputs": [],
   "source": []
  },
  {
   "cell_type": "code",
   "execution_count": 132,
   "id": "35a2dc40-5cf5-480e-a859-e0939ae734f5",
   "metadata": {
    "tags": []
   },
   "outputs": [
    {
     "name": "stdout",
     "output_type": "stream",
     "text": [
      "Column names: ['uid', 'mouseName', 'birthdate', 'sex', 'virusDate', 'virusDescription', 'implantDate', 'implantDescription', 'logTime']\n",
      "Features for column uid: {'Type': Integer(), 'primary_key': True, 'autoincrement': True, 'nullable': False, 'unique': None, 'default': None, 'server_default': None}\n",
      "Features for column mouseName: {'Type': String(length=9), 'primary_key': False, 'autoincrement': 'auto', 'nullable': False, 'unique': None, 'default': None, 'server_default': None}\n",
      "Features for column birthdate: {'Type': Date(), 'primary_key': False, 'autoincrement': 'auto', 'nullable': False, 'unique': None, 'default': None, 'server_default': None}\n",
      "Features for column sex: {'Type': String(length=1), 'primary_key': False, 'autoincrement': 'auto', 'nullable': False, 'unique': None, 'default': None, 'server_default': None}\n",
      "Features for column virusDate: {'Type': Date(), 'primary_key': False, 'autoincrement': 'auto', 'nullable': True, 'unique': None, 'default': None, 'server_default': None}\n",
      "Features for column virusDescription: {'Type': Text(), 'primary_key': False, 'autoincrement': 'auto', 'nullable': True, 'unique': None, 'default': None, 'server_default': None}\n",
      "Features for column implantDate: {'Type': Date(), 'primary_key': False, 'autoincrement': 'auto', 'nullable': True, 'unique': None, 'default': None, 'server_default': None}\n",
      "Features for column implantDescription: {'Type': Text(), 'primary_key': False, 'autoincrement': 'auto', 'nullable': True, 'unique': None, 'default': None, 'server_default': None}\n",
      "Features for column logTime: {'Type': TIMESTAMP(), 'primary_key': False, 'autoincrement': 'auto', 'nullable': True, 'unique': None, 'default': None, 'server_default': DefaultClause('CURRENT_TIMESTAMP', for_update=False)}\n"
     ]
    }
   ],
   "source": [
    "from tables import mice\n",
    "columnNames, columnFeatures = dm.getTableColumns(mice)\n",
    "\n",
    "print(\"Column names:\", columnNames)\n",
    "for idx, feature_dict in enumerate(columnFeatures):\n",
    "    print(f\"Features for column {names_of_columns[idx]}:\", feature_dict)\n"
   ]
  },
  {
   "cell_type": "code",
   "execution_count": null,
   "id": "0b8bae80-1561-413a-8672-290af8152ac4",
   "metadata": {},
   "outputs": [],
   "source": []
  }
 ],
 "metadata": {
  "kernelspec": {
   "display_name": "Python 3 (ipykernel)",
   "language": "python",
   "name": "python3"
  },
  "language_info": {
   "codemirror_mode": {
    "name": "ipython",
    "version": 3
   },
   "file_extension": ".py",
   "mimetype": "text/x-python",
   "name": "python",
   "nbconvert_exporter": "python",
   "pygments_lexer": "ipython3",
   "version": "3.11.4"
  }
 },
 "nbformat": 4,
 "nbformat_minor": 5
}
